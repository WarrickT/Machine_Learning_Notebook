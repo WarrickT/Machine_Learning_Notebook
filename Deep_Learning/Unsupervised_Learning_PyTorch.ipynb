{
 "cells": [
  {
   "cell_type": "markdown",
   "id": "37ba430a",
   "metadata": {},
   "source": [
    "class Autoencoder(nn.Module):\n",
    "    def __init__(self):\n",
    "        super(Autoencoder, self).__init__()\n",
    "        encoding_dim = 32 \n",
    "        self.encoder = nn.Linear(28*28, encoding_dim)\n",
    "        self.decoder = nn.Linear(encoding_dim, 28*28)\n",
    "    \n",
    "    def forward(self, img):\n",
    "        flattened = img.view(-1, 28*28)\n",
    "        x = self.encoder(flattened)\n",
    "        x = F.sigmoid(self.decoder(x))\n",
    "    \n",
    "    criterion = nn.MSELoss()"
   ]
  },
  {
   "cell_type": "code",
   "execution_count": null,
   "id": "05db60bb",
   "metadata": {},
   "outputs": [],
   "source": [
    "# Noise Introduction \n",
    "\n",
    "nf = 0.4 \n",
    "noisy_img = img + nf*torch.randn(*img.shape)\n",
    "\n",
    "# Clip values to prevent exiting RGB value range \n",
    "\n",
    "noisy_img = np.clip(noisy_img, 0., 1.)\n",
    "\n",
    "outputs = model(noisy_img)\n",
    "loss = criterion(outputs, img)"
   ]
  },
  {
   "cell_type": "markdown",
   "id": "b037f478",
   "metadata": {},
   "source": [
    "conv = nn.Conv2d(in_channels=8,out_channels=8,kernel_size=5)\n",
    "x = torch.randn(2, 8, 64, 64)\n",
    "y = conv(x)\n",
    "\n",
    "y.shape \n",
    "\n",
    "convt = nn.ConvTranspsoe2d(in_channels=8, out_channels=8, kernel_size=5)\n",
    "convt(y).shape"
   ]
  },
  {
   "cell_type": "markdown",
   "id": "680e4a1b",
   "metadata": {},
   "source": [
    "# Convolutional Autoencoder Implementation"
   ]
  },
  {
   "cell_type": "code",
   "execution_count": null,
   "id": "edcf8e79",
   "metadata": {},
   "outputs": [],
   "source": [
    "class Autoencoder(nn.Module):\n",
    "    def __init__(self):\n",
    "        super(Autoencoder, self).__init__()\n",
    "        self.encoder = nn.Sequential(\n",
    "            nn.Conv2d(1, 16, 3, stride=2, padding=1),\n",
    "            nn.ReLU(), \n",
    "            nn.Conv2d(16, 32, 3, stride=2, padding=1),\n",
    "            nn.ReLU(), \n",
    "            nn.Conv2d(32, 64, 7)\n",
    "        )\n",
    "    \n",
    "        self.decoder = nn.Sequential(\n",
    "            nn.ConvTranspose2d(64, 32, 7)\n",
    "            nn.ReLU(), \n",
    "            nn.ConvTranspose2d(32, 16, 3, stride=2, padding=1, output_padding=1),\n",
    "            nn.ReLU(), \n",
    "            nn.ConvTranspose2d(16, 1, 3, stride=2, padding=1, output_padding=2),\n",
    "            nn.Sigmoid()\n",
    "        )"
   ]
  }
 ],
 "metadata": {
  "language_info": {
   "name": "python"
  }
 },
 "nbformat": 4,
 "nbformat_minor": 5
}
