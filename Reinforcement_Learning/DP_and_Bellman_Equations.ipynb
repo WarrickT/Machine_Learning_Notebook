{
 "cells": [
  {
   "cell_type": "markdown",
   "id": "f46afc0b",
   "metadata": {},
   "source": [
    "http://www.incompleteideas.net/book/first/ebook/node41.html"
   ]
  },
  {
   "cell_type": "markdown",
   "id": "34ab7a2b",
   "metadata": {},
   "source": [
    "# Dynamic Programming "
   ]
  },
  {
   "cell_type": "markdown",
   "id": "386fc0ae",
   "metadata": {},
   "source": [
    "This is a category of algorithsm to find **optimal policies** which have a \n",
    "\n",
    "COMPLETE KNOWLEDGE of the environment as an MDP (Markov Decision Process)"
   ]
  },
  {
   "cell_type": "markdown",
   "id": "ed67ebfe",
   "metadata": {},
   "source": [
    "## The Bellman Equations"
   ]
  },
  {
   "cell_type": "markdown",
   "id": "cf5fa46e",
   "metadata": {},
   "source": [
    "For **any policy** $\\pi$, all $s \\in S$ and $a \\in A(s)$\n",
    "\n",
    "Dynamic Programming follow the Bellman Equations"
   ]
  },
  {
   "cell_type": "markdown",
   "id": "f26b5b19",
   "metadata": {},
   "source": [
    "## The Value of State Function"
   ]
  },
  {
   "cell_type": "markdown",
   "id": "86723f81",
   "metadata": {},
   "source": [
    "$$\n",
    "\n",
    "V_{\\pi}(s) = \\sum_{a \\in A(s)} \\pi(a|s)q_{\\pi}(s,a) = \\mathbb{E}_{\\pi} \\{r_{t+1} + {\\gamma}{V}_{\\pi}(s_{t+1}) | s_t = s\\}\n",
    "\n",
    "$$\n",
    "\n",
    "\"Value of state, is the policy-weighted average of action values\""
   ]
  },
  {
   "cell_type": "markdown",
   "id": "07a1317e",
   "metadata": {},
   "source": [
    "## The probability function\n"
   ]
  },
  {
   "cell_type": "markdown",
   "id": "345d243d",
   "metadata": {},
   "source": [
    "$$\n",
    "\n",
    "q_{\\pi}(s, a) = \\sum_{\\substack{s' \\in S \\\\ r \\in R}} p(s', r|s, a)[r + {\\gamma}V_{\\pi}(s')]\n",
    "\n",
    "$$"
   ]
  },
  {
   "cell_type": "markdown",
   "id": "0727d24b",
   "metadata": {},
   "source": [
    "## Now, the Bellman Optimality "
   ]
  },
  {
   "cell_type": "markdown",
   "id": "939f469c",
   "metadata": {},
   "source": [
    "#### First let's define some convenient transition probabilities"
   ]
  },
  {
   "cell_type": "markdown",
   "id": "0651a5de",
   "metadata": {},
   "source": [
    "(After some annoying mathematical substitutions...)"
   ]
  },
  {
   "cell_type": "markdown",
   "id": "079ed3a2",
   "metadata": {},
   "source": [
    "$$\n",
    "\n",
    "V_{*}(s) = \\max_{a \\in A(s)} q_*(s, a) = \\max_{a}\\mathbb{E}\\{r_{t+1} + {\\gamma}{V}^{*}(s_{t+1}) | s_t = s, a_t = a \\}\n",
    "\n",
    "\n",
    "$$\n",
    "\n",
    "$$\n",
    "\n",
    "q_*(s|a) = \\sum_{\\substack{s' \\in S \\\\ r \\in R}} p(s', r|s, a)[r + {\\gamma}V_*(s')]\n",
    "\n",
    "$$"
   ]
  },
  {
   "cell_type": "markdown",
   "id": "c5c260c8",
   "metadata": {},
   "source": []
  },
  {
   "cell_type": "markdown",
   "id": "66a02e15",
   "metadata": {},
   "source": [
    "## Now, how do we evaluate a policy? "
   ]
  },
  {
   "cell_type": "markdown",
   "id": "b922f196",
   "metadata": {},
   "source": [
    "### Random Initialization $V_0$\n",
    "\n",
    "First, apply a random estimate approximating a value $V(s)$\n",
    "\n",
    "So, apply this \n",
    "\n",
    "$$\n",
    "V_{\\pi}(s) = \\sum_{a \\in A(s)}{\\pi}(a|s)\\sum_{\\substack{s' \\in S \\\\ r \\in R}} p(s', r|s, a)[r + {\\gamma}V_*(s')]\n",
    "\n",
    "$$\n",
    "\n",
    "to get a randomly generated $V_0$"
   ]
  },
  {
   "cell_type": "markdown",
   "id": "3dfc0254",
   "metadata": {},
   "source": [
    "### Policy Imporvement with update rule\n",
    "\n",
    "Now given $V_{\\pi}(s)$, we need to determine a better policy through this update rule. \n",
    "\n",
    "$$\n",
    "\n",
    "V_{k+1}(s) = \\mathbb{E}_{\\pi}\\{r_{t+1} + {\\gamma}{V_k}(s_{t+1}) | s_t = s\\}\n",
    "\n",
    "$$\n",
    "\n",
    "This update rule is applied on each state: It repalces the old value of s with a new value obtained from the old values of successor states of $s$.\n",
    "\n",
    "This is called a *full backup*. Each iteration of iterative policy evaluation *backs up* the value of every state once to produce the new approximate value function $V_{k+1}$\n",
    "\n",
    "All backups done in DP algoirhtms are full backsups as they are based on all possible next states. \n"
   ]
  },
  {
   "cell_type": "markdown",
   "id": "76dc105e",
   "metadata": {},
   "source": [
    "Now how do we do this? \n",
    "\n"
   ]
  },
  {
   "cell_type": "markdown",
   "id": "886f01ad",
   "metadata": {},
   "source": [
    "### How to decide to improve???\n",
    "\n",
    "For some state $s$ we would like to know whether or not we shoudl change the policy to deterministic choose an action $a \\neq \\pi(s)$\n",
    "\n",
    "We know how good it is to follow the current policy from $V_{\\pi}(s)$, but would it be better to change our current policy? \n",
    "\n",
    "We would considering selecting $a$ in $s$ and thereafter following the existing policy $\\pi$\n",
    "\n",
    "The value of this way of behaving is \n",
    "\n",
    "$$\n",
    "Q_{\\pi}(s, a) = \\mathbb{E}\\{r_{t+1} + {\\gamma}{V_{\\pi}}(s_{t+1}) | s_t = s, a_t = a\\}\n",
    "$$\n",
    "\n",
    "The criterion is whether this is greater than or less than $V_{\\pi}(s)$\n",
    "\n",
    "If so, we select $a$ once in $s$ and thereafter follow $\\pi$ than it owuld be to follwo $\\pi$ all the time. \n",
    "\n",
    "Then in theory, it would be better still to select $a$ every time $s$ is encountered, and that a new policy would in fact be a better one overall"
   ]
  },
  {
   "cell_type": "markdown",
   "id": "5d4149d8",
   "metadata": {},
   "source": [
    "#### Policy Improvement Theorem \n",
    "\n",
    "The ideal situation just discussed holds true for a special case. \n",
    "\n",
    "Let $\\pi$ and $\\pi'$ be any pair of determinsitic policies such that, for all $s \\in S$\n",
    "\n",
    "$$\n",
    "\n",
    "Q_{\\pi}(s, {\\pi'}(s)) \\geq V_{\\pi}(s)\n",
    "\n",
    "$$\n",
    "\n",
    "Then the policy $\\pi'$ must be as good as, or better than, $\\pi$. \n",
    "\n",
    "That is, it must obtain greater or equal expected return from all states $s \\in S$.\n",
    "\n",
    "$$\n",
    "\n",
    "V_{\\pi'}(s) \\geq V_{\\pi}(s)\n",
    "\n",
    "$$\n",
    "\n",
    "So in other words, if we have a policy $\\pi$ and we can find a new policy $\\pi'$ that chooses better actions in every state, then $\\pi'$ is guaranteed to be better or at least as good at $\\pi$\n"
   ]
  },
  {
   "cell_type": "markdown",
   "id": "bc2cfe8b",
   "metadata": {},
   "source": [
    "### Policy Iteration "
   ]
  },
  {
   "attachments": {
    "image.png": {
     "image/png": "[encoded data removed]"
    }
   },
   "cell_type": "markdown",
   "id": "b55ecca8",
   "metadata": {},
   "source": [
    "![image.png](attachment:image.png)"
   ]
  },
  {
   "cell_type": "markdown",
   "id": "8d8062b4",
   "metadata": {},
   "source": [
    "This is the actual process of finding the optimal policy \n",
    "\n",
    "1. Start with a policy $\\pi$\n",
    "2. Evaluate $\\pi$: Calculate how good it is --- get $V_{\\pi}$\n",
    "3. Improve $\\pi$ by updating it to choose better actions \n",
    "\n",
    "- For every staet $s$, pick the action $a$ that maximizes $Q_{\\pi}(s, a)$\n",
    "\n",
    "${\\pi'(s) = arg \\max_{a}{Q^{\\pi}}(s, a)}\n",
    "\n",
    "4. Rinse and repeat: This process is called **Policy Iteration**"
   ]
  },
  {
   "cell_type": "markdown",
   "id": "a68ea004",
   "metadata": {},
   "source": []
  }
 ],
 "metadata": {
  "language_info": {
   "name": "python"
  }
 },
 "nbformat": 4,
 "nbformat_minor": 5
}
